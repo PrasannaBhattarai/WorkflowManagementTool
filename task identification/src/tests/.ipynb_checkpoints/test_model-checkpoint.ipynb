{
 "cells": [
  {
   "cell_type": "code",
   "execution_count": 36,
   "id": "f056bdbb",
   "metadata": {},
   "outputs": [],
   "source": [
    "#importing libraries\n",
    "import pandas as pd\n",
    "import matplotlib.pyplot as plt\n",
    "import numpy as np\n",
    "from sklearn.utils import shuffle"
   ]
  },
  {
   "cell_type": "code",
   "execution_count": 13,
   "id": "369a1156",
   "metadata": {},
   "outputs": [],
   "source": [
    "#reading dataset using pandas function\n",
    "df = pd.read_csv('../ai_model/_internal/labeled_comments.csv')"
   ]
  },
  {
   "cell_type": "code",
   "execution_count": 14,
   "id": "4e6f25b5",
   "metadata": {},
   "outputs": [
    {
     "name": "stdout",
     "output_type": "stream",
     "text": [
      "                                file_id                            comment_id  \\\n",
      "0  ed88fa24-1a89-44fb-9a66-c7f554d87f5d  ffc97358-69e6-48fb-aaf0-6a844e26f653   \n",
      "1  0c9c7a44-8bae-4bcf-a271-1b54ab0ef41e  ffa706dc-4877-492d-ac74-598d5f4d07c5   \n",
      "2  0c9c7a44-8bae-4bcf-a271-1b54ab0ef41e  ffa706dc-4877-492d-ac74-598d5f4d07c5   \n",
      "3  0c9c7a44-8bae-4bcf-a271-1b54ab0ef41e  ffa706dc-4877-492d-ac74-598d5f4d07c5   \n",
      "4  f5208894-9572-4cb8-b023-00b3c03cee89  ff533813-4050-424d-8e01-3c8dbb392f4d   \n",
      "\n",
      "                comment_date       anonymized_nickname  \\\n",
      "0  2013-04-09 09:30:00+00:00                    Editor   \n",
      "1  2011-12-08 15:51:00+00:00  Alicia R. Dalton-Tingler   \n",
      "2  2011-12-08 15:51:00+00:00  Alicia R. Dalton-Tingler   \n",
      "3  2011-12-08 15:51:00+00:00  Alicia R. Dalton-Tingler   \n",
      "4  2016-03-09 15:05:00+00:00            Alannah Kittle   \n",
      "\n",
      "                             document_paragraph_text document_selected_text  \\\n",
      "0  The experiments were carried out in a fluidize...                    NaN   \n",
      "1  In addition to the work mentioned above, the E...                    NaN   \n",
      "2  In addition to the work mentioned above, the E...                    NaN   \n",
      "3  In addition to the work mentioned above, the E...                    NaN   \n",
      "4                                                NaN                    NaN   \n",
      "\n",
      "   document_selected_sentences  \\\n",
      "0                          1.0   \n",
      "1                          1.0   \n",
      "2                          1.0   \n",
      "3                          1.0   \n",
      "4                          1.0   \n",
      "\n",
      "                                   comment_full_text  \\\n",
      "0                                                Ok?   \n",
      "1  This has been discussed in the Executive Summa...   \n",
      "2  This has been discussed in the Executive Summa...   \n",
      "3  This has been discussed in the Executive Summa...   \n",
      "4    CODING\\n\\nCode qualitative data for WAVGUAGE03A   \n",
      "\n",
      "                               comment_sentence_text  is_sentence  ...  \\\n",
      "0                                                Ok?            0  ...   \n",
      "1  This has been discussed in the Executive Summa...            1  ...   \n",
      "2    It is, however, very out of place sitting here.            1  ...   \n",
      "3  This has been discussed in the Executive Summa...            0  ...   \n",
      "4    CODING\\n\\nCode qualitative data for WAVGUAGE03A            0  ...   \n",
      "\n",
      "   num_images  spelling_checked  spelling_errors  tracked_changes  \\\n",
      "0           0               1.0              0.0              2.0   \n",
      "1           0               0.0              0.0              1.0   \n",
      "2           0               0.0              0.0              1.0   \n",
      "3           0               0.0              0.0              1.0   \n",
      "4           0               1.0              0.0              0.0   \n",
      "\n",
      "   next_action               level_0     level_1                  level_2  \\\n",
      "0         KEEP  INFORMATION EXCHANGE   REQUESTED  REQUESTING_CONFIRMATION   \n",
      "1         KEEP          MODIFICATION   EXECUTION                  PROMISE   \n",
      "2         KEEP  SOCIAL COMMUNICATION  DISCUSSION                  CONTENT   \n",
      "3         KEEP          MODIFICATION   REQUESTED                  CONTENT   \n",
      "4         KEEP  INFORMATION EXCHANGE    PROVIDED                REFERENCE   \n",
      "\n",
      "                level_3 level_4  \n",
      "0      POTENTIAL_CHANGE     NaN  \n",
      "1                   NaN     NaN  \n",
      "2  NOT_POTENTIAL_CHANGE     NaN  \n",
      "3              EXPLICIT     NaN  \n",
      "4      POTENTIAL_CHANGE     NaN  \n",
      "\n",
      "[5 rows x 31 columns]\n"
     ]
    }
   ],
   "source": [
    "#printing first 5 rows\n",
    "print(df.head())"
   ]
  },
  {
   "cell_type": "code",
   "execution_count": 16,
   "id": "19f765a3",
   "metadata": {},
   "outputs": [
    {
     "name": "stdout",
     "output_type": "stream",
     "text": [
      "{nan, 'FORMAT', 'PROVIDED', 'FEEDBACK', 'DISCUSSION', 'REQUESTED', 'EXECUTION', 'ACKNOWLEDGMENT', 'reQUESTED'}\n"
     ]
    }
   ],
   "source": [
    "f=set(df['level_1'])\n",
    "print(f)"
   ]
  },
  {
   "cell_type": "code",
   "execution_count": 17,
   "id": "ffd1330f",
   "metadata": {},
   "outputs": [
    {
     "name": "stdout",
     "output_type": "stream",
     "text": [
      "       document_selected_sentences  is_sentence  num_sentence  \\\n",
      "count                  5165.000000  5191.000000   5191.000000   \n",
      "mean                      1.534172     0.479869      1.194375   \n",
      "std                       3.295750     0.499643      1.837360   \n",
      "min                       0.000000     0.000000      0.000000   \n",
      "25%                       1.000000     0.000000      0.000000   \n",
      "50%                       1.000000     0.000000      0.000000   \n",
      "75%                       1.000000     1.000000      2.000000   \n",
      "max                     119.000000     1.000000     17.000000   \n",
      "\n",
      "       total_sentences  grammar_checked  grammatical_errors  has_replies  \\\n",
      "count      5191.000000      5191.000000         5191.000000  5191.000000   \n",
      "mean          2.752456         0.636486            0.034483     0.012714   \n",
      "std           2.456124         0.481057            0.206273     0.112049   \n",
      "min           0.000000         0.000000            0.000000     0.000000   \n",
      "25%           1.000000         0.000000            0.000000     0.000000   \n",
      "50%           2.000000         1.000000            0.000000     0.000000   \n",
      "75%           3.000000         1.000000            0.000000     0.000000   \n",
      "max          17.000000         1.000000            3.000000     1.000000   \n",
      "\n",
      "          is_reply    num_reply  num_replies  is_resolved  num_hyperlinks  \\\n",
      "count  5191.000000  5191.000000  5191.000000  5191.000000     5191.000000   \n",
      "mean      0.005972     0.006742     0.013870     0.007128        0.021191   \n",
      "std       0.077054     0.092871     0.127976     0.084133        0.276110   \n",
      "min       0.000000     0.000000     0.000000     0.000000        0.000000   \n",
      "25%       0.000000     0.000000     0.000000     0.000000        0.000000   \n",
      "50%       0.000000     0.000000     0.000000     0.000000        0.000000   \n",
      "75%       0.000000     0.000000     0.000000     0.000000        0.000000   \n",
      "max       1.000000     3.000000     3.000000     1.000000       10.000000   \n",
      "\n",
      "        num_images  spelling_checked  spelling_errors  tracked_changes  \n",
      "count  5191.000000       5185.000000      5185.000000      5185.000000  \n",
      "mean      0.004238          0.754484         0.070010         0.223529  \n",
      "std       0.064969          0.430434         0.608198         1.232902  \n",
      "min       0.000000          0.000000         0.000000         0.000000  \n",
      "25%       0.000000          1.000000         0.000000         0.000000  \n",
      "50%       0.000000          1.000000         0.000000         0.000000  \n",
      "75%       0.000000          1.000000         0.000000         0.000000  \n",
      "max       1.000000          1.000000        30.000000        29.000000  \n"
     ]
    }
   ],
   "source": [
    "#describing dataset distribution\n",
    "print(df.describe())"
   ]
  },
  {
   "cell_type": "code",
   "execution_count": 18,
   "id": "f9b12382",
   "metadata": {},
   "outputs": [
    {
     "name": "stdout",
     "output_type": "stream",
     "text": [
      "<class 'pandas.core.frame.DataFrame'>\n",
      "RangeIndex: 5191 entries, 0 to 5190\n",
      "Data columns (total 31 columns):\n",
      " #   Column                       Non-Null Count  Dtype  \n",
      "---  ------                       --------------  -----  \n",
      " 0   file_id                      4991 non-null   object \n",
      " 1   comment_id                   5191 non-null   object \n",
      " 2   comment_date                 5191 non-null   object \n",
      " 3   anonymized_nickname          5176 non-null   object \n",
      " 4   document_paragraph_text      4700 non-null   object \n",
      " 5   document_selected_text       4181 non-null   object \n",
      " 6   document_selected_sentences  5165 non-null   float64\n",
      " 7   comment_full_text            5191 non-null   object \n",
      " 8   comment_sentence_text        5191 non-null   object \n",
      " 9   is_sentence                  5191 non-null   int64  \n",
      " 10  num_sentence                 5191 non-null   int64  \n",
      " 11  total_sentences              5191 non-null   int64  \n",
      " 12  grammar_checked              5191 non-null   int64  \n",
      " 13  grammatical_errors           5191 non-null   int64  \n",
      " 14  has_replies                  5191 non-null   int64  \n",
      " 15  is_reply                     5191 non-null   int64  \n",
      " 16  num_reply                    5191 non-null   int64  \n",
      " 17  num_replies                  5191 non-null   int64  \n",
      " 18  is_resolved                  5191 non-null   int64  \n",
      " 19  language_name                5151 non-null   object \n",
      " 20  num_hyperlinks               5191 non-null   int64  \n",
      " 21  num_images                   5191 non-null   int64  \n",
      " 22  spelling_checked             5185 non-null   float64\n",
      " 23  spelling_errors              5185 non-null   float64\n",
      " 24  tracked_changes              5185 non-null   float64\n",
      " 25  next_action                  5191 non-null   object \n",
      " 26  level_0                      5191 non-null   object \n",
      " 27  level_1                      4918 non-null   object \n",
      " 28  level_2                      4889 non-null   object \n",
      " 29  level_3                      4615 non-null   object \n",
      " 30  level_4                      1669 non-null   object \n",
      "dtypes: float64(4), int64(12), object(15)\n",
      "memory usage: 1.2+ MB\n",
      "None\n"
     ]
    }
   ],
   "source": [
    "#showing dataset rows information\n",
    "print(df.info())"
   ]
  },
  {
   "cell_type": "code",
   "execution_count": 19,
   "id": "717b94b4",
   "metadata": {},
   "outputs": [
    {
     "name": "stdout",
     "output_type": "stream",
     "text": [
      "<class 'pandas.core.frame.DataFrame'>\n",
      "RangeIndex: 5191 entries, 0 to 5190\n",
      "Data columns (total 2 columns):\n",
      " #   Column             Non-Null Count  Dtype \n",
      "---  ------             --------------  ----- \n",
      " 0   comment_full_text  5191 non-null   object\n",
      " 1   level_1            4918 non-null   object\n",
      "dtypes: object(2)\n",
      "memory usage: 81.2+ KB\n",
      "None\n"
     ]
    }
   ],
   "source": [
    "#filtering required elements\n",
    "df = df[['comment_full_text','level_1']]\n",
    "print(df.info())"
   ]
  },
  {
   "cell_type": "code",
   "execution_count": 20,
   "id": "724a6117",
   "metadata": {},
   "outputs": [
    {
     "data": {
      "text/html": [
       "<div>\n",
       "<style scoped>\n",
       "    .dataframe tbody tr th:only-of-type {\n",
       "        vertical-align: middle;\n",
       "    }\n",
       "\n",
       "    .dataframe tbody tr th {\n",
       "        vertical-align: top;\n",
       "    }\n",
       "\n",
       "    .dataframe thead th {\n",
       "        text-align: right;\n",
       "    }\n",
       "</style>\n",
       "<table border=\"1\" class=\"dataframe\">\n",
       "  <thead>\n",
       "    <tr style=\"text-align: right;\">\n",
       "      <th></th>\n",
       "      <th>comment_full_text</th>\n",
       "      <th>level_1</th>\n",
       "    </tr>\n",
       "  </thead>\n",
       "  <tbody>\n",
       "    <tr>\n",
       "      <th>0</th>\n",
       "      <td>Ok?</td>\n",
       "      <td>REQUESTED</td>\n",
       "    </tr>\n",
       "    <tr>\n",
       "      <th>1</th>\n",
       "      <td>This has been discussed in the Executive Summa...</td>\n",
       "      <td>EXECUTION</td>\n",
       "    </tr>\n",
       "    <tr>\n",
       "      <th>2</th>\n",
       "      <td>This has been discussed in the Executive Summa...</td>\n",
       "      <td>DISCUSSION</td>\n",
       "    </tr>\n",
       "    <tr>\n",
       "      <th>3</th>\n",
       "      <td>This has been discussed in the Executive Summa...</td>\n",
       "      <td>REQUESTED</td>\n",
       "    </tr>\n",
       "    <tr>\n",
       "      <th>4</th>\n",
       "      <td>CODING\\n\\nCode qualitative data for WAVGUAGE03A</td>\n",
       "      <td>PROVIDED</td>\n",
       "    </tr>\n",
       "  </tbody>\n",
       "</table>\n",
       "</div>"
      ],
      "text/plain": [
       "                                   comment_full_text     level_1\n",
       "0                                                Ok?   REQUESTED\n",
       "1  This has been discussed in the Executive Summa...   EXECUTION\n",
       "2  This has been discussed in the Executive Summa...  DISCUSSION\n",
       "3  This has been discussed in the Executive Summa...   REQUESTED\n",
       "4    CODING\\n\\nCode qualitative data for WAVGUAGE03A    PROVIDED"
      ]
     },
     "execution_count": 20,
     "metadata": {},
     "output_type": "execute_result"
    }
   ],
   "source": [
    "df.head()"
   ]
  },
  {
   "cell_type": "code",
   "execution_count": 22,
   "id": "76c0fb91",
   "metadata": {},
   "outputs": [
    {
     "name": "stdout",
     "output_type": "stream",
     "text": [
      "<class 'pandas.core.frame.DataFrame'>\n",
      "RangeIndex: 5191 entries, 0 to 5190\n",
      "Data columns (total 2 columns):\n",
      " #   Column             Non-Null Count  Dtype \n",
      "---  ------             --------------  ----- \n",
      " 0   comment_full_text  5191 non-null   object\n",
      " 1   level_1            5191 non-null   int32 \n",
      "dtypes: int32(1), object(1)\n",
      "memory usage: 61.0+ KB\n",
      "None\n"
     ]
    }
   ],
   "source": [
    "df['level_1'] = np.where(df['level_1'].isin(['REQUESTED','EXECUTION']), 1, 0)\n",
    "print(df.info())"
   ]
  },
  {
   "cell_type": "code",
   "execution_count": 23,
   "id": "78b685a4",
   "metadata": {},
   "outputs": [
    {
     "data": {
      "text/html": [
       "<div>\n",
       "<style scoped>\n",
       "    .dataframe tbody tr th:only-of-type {\n",
       "        vertical-align: middle;\n",
       "    }\n",
       "\n",
       "    .dataframe tbody tr th {\n",
       "        vertical-align: top;\n",
       "    }\n",
       "\n",
       "    .dataframe thead th {\n",
       "        text-align: right;\n",
       "    }\n",
       "</style>\n",
       "<table border=\"1\" class=\"dataframe\">\n",
       "  <thead>\n",
       "    <tr style=\"text-align: right;\">\n",
       "      <th></th>\n",
       "      <th>comment_full_text</th>\n",
       "      <th>level_1</th>\n",
       "    </tr>\n",
       "  </thead>\n",
       "  <tbody>\n",
       "    <tr>\n",
       "      <th>0</th>\n",
       "      <td>Ok?</td>\n",
       "      <td>1</td>\n",
       "    </tr>\n",
       "    <tr>\n",
       "      <th>1</th>\n",
       "      <td>This has been discussed in the Executive Summa...</td>\n",
       "      <td>1</td>\n",
       "    </tr>\n",
       "    <tr>\n",
       "      <th>2</th>\n",
       "      <td>This has been discussed in the Executive Summa...</td>\n",
       "      <td>0</td>\n",
       "    </tr>\n",
       "    <tr>\n",
       "      <th>3</th>\n",
       "      <td>This has been discussed in the Executive Summa...</td>\n",
       "      <td>1</td>\n",
       "    </tr>\n",
       "    <tr>\n",
       "      <th>4</th>\n",
       "      <td>CODING\\n\\nCode qualitative data for WAVGUAGE03A</td>\n",
       "      <td>0</td>\n",
       "    </tr>\n",
       "  </tbody>\n",
       "</table>\n",
       "</div>"
      ],
      "text/plain": [
       "                                   comment_full_text  level_1\n",
       "0                                                Ok?        1\n",
       "1  This has been discussed in the Executive Summa...        1\n",
       "2  This has been discussed in the Executive Summa...        0\n",
       "3  This has been discussed in the Executive Summa...        1\n",
       "4    CODING\\n\\nCode qualitative data for WAVGUAGE03A        0"
      ]
     },
     "execution_count": 23,
     "metadata": {},
     "output_type": "execute_result"
    }
   ],
   "source": [
    "df.head()"
   ]
  },
  {
   "cell_type": "code",
   "execution_count": 24,
   "id": "57b8c306",
   "metadata": {},
   "outputs": [
    {
     "data": {
      "image/png": "[encoded data removed]",
      "text/plain": [
       "<Figure size 800x500 with 1 Axes>"
      ]
     },
     "metadata": {},
     "output_type": "display_data"
    }
   ],
   "source": [
    "#checking total count distribution of labels plotting a bargraph\n",
    "plt.figure(figsize=(8, 5))\n",
    "df['level_1'].value_counts().plot(kind='bar', color='red')\n",
    "plt.title('Distribution of Labels')\n",
    "plt.xlabel('Label')\n",
    "plt.ylabel('Count')\n",
    "plt.show()"
   ]
  },
  {
   "cell_type": "code",
   "execution_count": 26,
   "id": "11808b8a",
   "metadata": {},
   "outputs": [],
   "source": [
    "#removing null values\n",
    "df = df.dropna()"
   ]
  },
  {
   "cell_type": "code",
   "execution_count": 29,
   "id": "1461d6b5",
   "metadata": {},
   "outputs": [
    {
     "data": {
      "image/png": "[encoded data removed]",
      "text/plain": [
       "<Figure size 500x500 with 1 Axes>"
      ]
     },
     "metadata": {},
     "output_type": "display_data"
    }
   ],
   "source": [
    "#checking labels from dataframe\n",
    "label_counts = df['level_1'].value_counts()\n",
    "total_samples = len(df)\n",
    "\n",
    "#calculate ratio in percentage\n",
    "label_percentage = label_counts / total_samples * 100\n",
    "\n",
    "#ploting a pie chart\n",
    "plt.figure(figsize=(5, 5))\n",
    "plt.pie(label_percentage, labels=label_percentage.index, colors=['red', 'blue'])\n",
    "plt.title('Ratio of Labels')\n",
    "plt.show()"
   ]
  },
  {
   "cell_type": "code",
   "execution_count": 32,
   "id": "dbd00751",
   "metadata": {},
   "outputs": [
    {
     "name": "stdout",
     "output_type": "stream",
     "text": [
      "Label 0: 47.38971296474668\n",
      "Label 1: 52.61028703525332\n"
     ]
    }
   ],
   "source": [
    "#counting total number of labels\n",
    "label_counts = df['level_1'].value_counts()\n",
    "total_samples = len(df)\n",
    "\n",
    "#calculating ratio in percentage\n",
    "label_percentage = label_counts / total_samples * 100\n",
    "\n",
    "print(\"Label 0:\",(label_percentage[0]))\n",
    "print(\"Label 1:\", (label_percentage[1]))"
   ]
  },
  {
   "cell_type": "code",
   "execution_count": 34,
   "id": "83c23233",
   "metadata": {},
   "outputs": [
    {
     "data": {
      "text/html": [
       "<div>\n",
       "<style scoped>\n",
       "    .dataframe tbody tr th:only-of-type {\n",
       "        vertical-align: middle;\n",
       "    }\n",
       "\n",
       "    .dataframe tbody tr th {\n",
       "        vertical-align: top;\n",
       "    }\n",
       "\n",
       "    .dataframe thead th {\n",
       "        text-align: right;\n",
       "    }\n",
       "</style>\n",
       "<table border=\"1\" class=\"dataframe\">\n",
       "  <thead>\n",
       "    <tr style=\"text-align: right;\">\n",
       "      <th></th>\n",
       "      <th>comment_full_text</th>\n",
       "      <th>task</th>\n",
       "    </tr>\n",
       "  </thead>\n",
       "  <tbody>\n",
       "    <tr>\n",
       "      <th>0</th>\n",
       "      <td>Ok?</td>\n",
       "      <td>1</td>\n",
       "    </tr>\n",
       "    <tr>\n",
       "      <th>1</th>\n",
       "      <td>This has been discussed in the Executive Summa...</td>\n",
       "      <td>1</td>\n",
       "    </tr>\n",
       "    <tr>\n",
       "      <th>2</th>\n",
       "      <td>This has been discussed in the Executive Summa...</td>\n",
       "      <td>0</td>\n",
       "    </tr>\n",
       "    <tr>\n",
       "      <th>3</th>\n",
       "      <td>This has been discussed in the Executive Summa...</td>\n",
       "      <td>1</td>\n",
       "    </tr>\n",
       "    <tr>\n",
       "      <th>4</th>\n",
       "      <td>CODING\\n\\nCode qualitative data for WAVGUAGE03A</td>\n",
       "      <td>0</td>\n",
       "    </tr>\n",
       "  </tbody>\n",
       "</table>\n",
       "</div>"
      ],
      "text/plain": [
       "                                   comment_full_text  task\n",
       "0                                                Ok?     1\n",
       "1  This has been discussed in the Executive Summa...     1\n",
       "2  This has been discussed in the Executive Summa...     0\n",
       "3  This has been discussed in the Executive Summa...     1\n",
       "4    CODING\\n\\nCode qualitative data for WAVGUAGE03A     0"
      ]
     },
     "execution_count": 34,
     "metadata": {},
     "output_type": "execute_result"
    }
   ],
   "source": [
    "#renaming column 'level_1' to 'task' for better understanding\n",
    "df = df.rename(columns={'level_1':'task'})\n",
    "df.head()"
   ]
  },
  {
   "cell_type": "code",
   "execution_count": 37,
   "id": "75b492ee",
   "metadata": {},
   "outputs": [],
   "source": [
    "#shuffling the data before train test and validation split\n",
    "shuffled_df = shuffle(df, random_state=42)"
   ]
  },
  {
   "cell_type": "code",
   "execution_count": 41,
   "id": "5d1d1cad",
   "metadata": {},
   "outputs": [],
   "source": [
    "#data cleaning for unwanted characters\n",
    "for index, row in shuffled_df.iterrows():\n",
    "    shuffled_df.at[index, \"comment_full_text\"] = row[\"comment_full_text\"].lower().\\\n",
    "        replace(\".\",\"\").\\\n",
    "        replace(\",\",\"\").\\\n",
    "        replace(\"+\",\"\").\\\n",
    "        replace(\"!\",\"\").\\\n",
    "        replace(\":\",\"\").\\\n",
    "        replace(\";\",\"\").\\\n",
    "        replace(\"[\",\"\").\\\n",
    "        replace(\"]\",\"\").\\\n",
    "        replace(\"*\",\"\").\\\n",
    "        replace(\"?\",\"\").\\\n",
    "        replace(\"\\n\",\"\").\\\n",
    "        replace(\"[\",\"\").\\\n",
    "        replace(\"]\",\"\").\\\n",
    "        replace(\"]\",\"\").\\\n",
    "        replace(\"â\",\"\").\\\n",
    "        replace(\"€\",\"\").\\\n",
    "        replace(\"™\",\"\").\\\n",
    "        replace(\"œ\",\"\").\\\n",
    "        replace(\"<\",\"\").\\\n",
    "        replace(\">\",\"\").\\\n",
    "        replace(\"%\",\"\").\\\n",
    "        replace(\"Â\",\"\").\\\n",
    "        replace(\"\",\"\").\\\n",
    "        replace(\"–\",\"\").\\\n",
    "        replace(\"_\",\"\")"
   ]
  },
  {
   "cell_type": "code",
   "execution_count": 42,
   "id": "15ded547",
   "metadata": {},
   "outputs": [
    {
     "data": {
      "text/html": [
       "<div>\n",
       "<style scoped>\n",
       "    .dataframe tbody tr th:only-of-type {\n",
       "        vertical-align: middle;\n",
       "    }\n",
       "\n",
       "    .dataframe tbody tr th {\n",
       "        vertical-align: top;\n",
       "    }\n",
       "\n",
       "    .dataframe thead th {\n",
       "        text-align: right;\n",
       "    }\n",
       "</style>\n",
       "<table border=\"1\" class=\"dataframe\">\n",
       "  <thead>\n",
       "    <tr style=\"text-align: right;\">\n",
       "      <th></th>\n",
       "      <th>comment_full_text</th>\n",
       "      <th>task</th>\n",
       "    </tr>\n",
       "  </thead>\n",
       "  <tbody>\n",
       "    <tr>\n",
       "      <th>2653</th>\n",
       "      <td>au ok as edited  yes</td>\n",
       "      <td>1</td>\n",
       "    </tr>\n",
       "    <tr>\n",
       "      <th>79</th>\n",
       "      <td>question ok so federal law allows leave with s...</td>\n",
       "      <td>1</td>\n",
       "    </tr>\n",
       "    <tr>\n",
       "      <th>3733</th>\n",
       "      <td>for 94 and 95 – select what body will make the...</td>\n",
       "      <td>0</td>\n",
       "    </tr>\n",
       "    <tr>\n",
       "      <th>4914</th>\n",
       "      <td>note the 4th sentence  they will make provisio...</td>\n",
       "      <td>1</td>\n",
       "    </tr>\n",
       "    <tr>\n",
       "      <th>1858</th>\n",
       "      <td>if the estimated cost of this project is less ...</td>\n",
       "      <td>1</td>\n",
       "    </tr>\n",
       "  </tbody>\n",
       "</table>\n",
       "</div>"
      ],
      "text/plain": [
       "                                      comment_full_text  task\n",
       "2653                               au ok as edited  yes     1\n",
       "79    question ok so federal law allows leave with s...     1\n",
       "3733  for 94 and 95 – select what body will make the...     0\n",
       "4914  note the 4th sentence  they will make provisio...     1\n",
       "1858  if the estimated cost of this project is less ...     1"
      ]
     },
     "execution_count": 42,
     "metadata": {},
     "output_type": "execute_result"
    }
   ],
   "source": [
    "#shuffled subset data first 5 sample printing\n",
    "shuffled_df.head()"
   ]
  },
  {
   "cell_type": "code",
   "execution_count": null,
   "id": "436787d2",
   "metadata": {},
   "outputs": [],
   "source": []
  }
 ],
 "metadata": {
  "kernelspec": {
   "display_name": "Python 3 (ipykernel)",
   "language": "python",
   "name": "python3"
  },
  "language_info": {
   "codemirror_mode": {
    "name": "ipython",
    "version": 3
   },
   "file_extension": ".py",
   "mimetype": "text/x-python",
   "name": "python",
   "nbconvert_exporter": "python",
   "pygments_lexer": "ipython3",
   "version": "3.9.13"
  }
 },
 "nbformat": 4,
 "nbformat_minor": 5
}
